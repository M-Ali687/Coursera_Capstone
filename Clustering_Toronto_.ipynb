{
    "cells": [
        {
            "metadata": {},
            "cell_type": "markdown",
            "source": "### Segmenting and Clustering Neighborhoods in Toronto"
        },
        {
            "metadata": {},
            "cell_type": "markdown",
            "source": "#### Importing Libraries"
        },
        {
            "metadata": {},
            "cell_type": "code",
            "source": "from bs4 import BeautifulSoup\nimport requests   # library to handle requests\nimport lxml       # parse the website in lxml format\nimport numpy as np\nimport pandas as pd",
            "execution_count": 166,
            "outputs": []
        },
        {
            "metadata": {},
            "cell_type": "markdown",
            "source": "#### Scraping website using Beautiful Soup"
        },
        {
            "metadata": {},
            "cell_type": "code",
            "source": "source = requests.get('https://en.wikipedia.org/wiki/List_of_postal_codes_of_Canada:_M').text\nsoup = BeautifulSoup(source, 'lxml')\ntable = soup.find('table', class_='wikitable sortable')\n# print(table.prettify())",
            "execution_count": 167,
            "outputs": []
        },
        {
            "metadata": {},
            "cell_type": "markdown",
            "source": "#### Getting Table Values"
        },
        {
            "metadata": {},
            "cell_type": "code",
            "source": "table1 = \"\"\nfor tr in table.find_all('tr'):\n    row = \"\"\n    for tds in tr.find_all('td'):\n        row = row + \" \" + tds.text\n    table1 = table1 + row[1:]\nprint(table1)",
            "execution_count": 168,
            "outputs": [
                {
                    "output_type": "stream",
                    "text": "M1A\n Not assigned\n Not assigned\nM2A\n Not assigned\n Not assigned\nM3A\n North York\n Parkwoods\nM4A\n North York\n Victoria Village\nM5A\n Downtown Toronto\n Regent Park, Harbourfront\nM6A\n North York\n Lawrence Manor, Lawrence Heights\nM7A\n Downtown Toronto\n Queen's Park, Ontario Provincial Government\nM8A\n Not assigned\n Not assigned\nM9A\n Etobicoke\n Islington Avenue, Humber Valley Village\nM1B\n Scarborough\n Malvern, Rouge\nM2B\n Not assigned\n Not assigned\nM3B\n North York\n Don Mills\nM4B\n East York\n Parkview Hill, Woodbine Gardens\nM5B\n Downtown Toronto\n Garden District, Ryerson\nM6B\n North York\n Glencairn\nM7B\n Not assigned\n Not assigned\nM8B\n Not assigned\n Not assigned\nM9B\n Etobicoke\n West Deane Park, Princess Gardens, Martin Grove, Islington, Cloverdale\nM1C\n Scarborough\n Rouge Hill, Port Union, Highland Creek\nM2C\n Not assigned\n Not assigned\nM3C\n North York\n Don Mills\nM4C\n East York\n Woodbine Heights\nM5C\n Downtown Toronto\n St. James Town\nM6C\n York\n Humewood-Cedarvale\nM7C\n Not assigned\n Not assigned\nM8C\n Not assigned\n Not assigned\nM9C\n Etobicoke\n Eringate, Bloordale Gardens, Old Burnhamthorpe, Markland Wood\nM1E\n Scarborough\n Guildwood, Morningside, West Hill\nM2E\n Not assigned\n Not assigned\nM3E\n Not assigned\n Not assigned\nM4E\n East Toronto\n The Beaches\nM5E\n Downtown Toronto\n Berczy Park\nM6E\n York\n Caledonia-Fairbanks\nM7E\n Not assigned\n Not assigned\nM8E\n Not assigned\n Not assigned\nM9E\n Not assigned\n Not assigned\nM1G\n Scarborough\n Woburn\nM2G\n Not assigned\n Not assigned\nM3G\n Not assigned\n Not assigned\nM4G\n East York\n Leaside\nM5G\n Downtown Toronto\n Central Bay Street\nM6G\n Downtown Toronto\n Christie\nM7G\n Not assigned\n Not assigned\nM8G\n Not assigned\n Not assigned\nM9G\n Not assigned\n Not assigned\nM1H\n Scarborough\n Cedarbrae\nM2H\n North York\n Hillcrest Village\nM3H\n North York\n Bathurst Manor, Wilson Heights, Downsview North\nM4H\n East York\n Thorncliffe Park\nM5H\n Downtown Toronto\n Richmond, Adelaide, King\nM6H\n West Toronto\n Dufferin, Dovercourt Village\nM7H\n Not assigned\n Not assigned\nM8H\n Not assigned\n Not assigned\nM9H\n Not assigned\n Not assigned\nM1J\n Scarborough\n Scarborough Village\nM2J\n North York\n Fairview, Henry Farm, Oriole\nM3J\n North York\n Northwood Park, York University\nM4J\n East York\n East Toronto, Broadview North (Old East York)\nM5J\n Downtown Toronto\n Harbourfront East, Union Station, Toronto Islands\nM6J\n West Toronto\n Little Portugal, Trinity\nM7J\n Not assigned\n Not assigned\nM8J\n Not assigned\n Not assigned\nM9J\n Not assigned\n Not assigned\nM1K\n Scarborough\n Kennedy Park, Ionview, East Birchmount Park\nM2K\n North York\n Bayview Village\nM3K\n North York\n Downsview\nM4K\n East Toronto\n The Danforth West, Riverdale\nM5K\n Downtown Toronto\n Toronto Dominion Centre, Design Exchange\nM6K\n West Toronto\n Brockton, Parkdale Village, Exhibition Place\nM7K\n Not assigned\n Not assigned\nM8K\n Not assigned\n Not assigned\nM9K\n Not assigned\n Not assigned\nM1L\n Scarborough\n Golden Mile, Clairlea, Oakridge\nM2L\n North York\n York Mills, Silver Hills\nM3L\n North York\n Downsview\nM4L\n East Toronto\n India Bazaar, The Beaches West\nM5L\n Downtown Toronto\n Commerce Court, Victoria Hotel\nM6L\n North York\n North Park, Maple Leaf Park, Upwood Park\nM7L\n Not assigned\n Not assigned\nM8L\n Not assigned\n Not assigned\nM9L\n North York\n Humber Summit\nM1M\n Scarborough\n Cliffside, Cliffcrest, Scarborough Village West\nM2M\n North York\n Willowdale, Newtonbrook\nM3M\n North York\n Downsview\nM4M\n East Toronto\n Studio District\nM5M\n North York\n Bedford Park, Lawrence Manor East\nM6M\n York\n Del Ray, Mount Dennis, Keelsdale and Silverthorn\nM7M\n Not assigned\n Not assigned\nM8M\n Not assigned\n Not assigned\nM9M\n North York\n Humberlea, Emery\nM1N\n Scarborough\n Birch Cliff, Cliffside West\nM2N\n North York\n Willowdale, Willowdale East\nM3N\n North York\n Downsview\nM4N\n Central Toronto\n Lawrence Park\nM5N\n Central Toronto\n Roselawn\nM6N\n York\n Runnymede, The Junction North\nM7N\n Not assigned\n Not assigned\nM8N\n Not assigned\n Not assigned\nM9N\n York\n Weston\nM1P\n Scarborough\n Dorset Park, Wexford Heights, Scarborough Town Centre\nM2P\n North York\n York Mills West\nM3P\n Not assigned\n Not assigned\nM4P\n Central Toronto\n Davisville North\nM5P\n Central Toronto\n Forest Hill North & West, Forest Hill Road Park\nM6P\n West Toronto\n High Park, The Junction South\nM7P\n Not assigned\n Not assigned\nM8P\n Not assigned\n Not assigned\nM9P\n Etobicoke\n Westmount\nM1R\n Scarborough\n Wexford, Maryvale\nM2R\n North York\n Willowdale, Willowdale West\nM3R\n Not assigned\n Not assigned\nM4R\n Central Toronto\n North Toronto West,  Lawrence Park\nM5R\n Central Toronto\n The Annex, North Midtown, Yorkville\nM6R\n West Toronto\n Parkdale, Roncesvalles\nM7R\n Mississauga\n Canada Post Gateway Processing Centre\nM8R\n Not assigned\n Not assigned\nM9R\n Etobicoke\n Kingsview Village, St. Phillips, Martin Grove Gardens, Richview Gardens\nM1S\n Scarborough\n Agincourt\nM2S\n Not assigned\n Not assigned\nM3S\n Not assigned\n Not assigned\nM4S\n Central Toronto\n Davisville\nM5S\n Downtown Toronto\n University of Toronto, Harbord\nM6S\n West Toronto\n Runnymede, Swansea\nM7S\n Not assigned\n Not assigned\nM8S\n Not assigned\n Not assigned\nM9S\n Not assigned\n Not assigned\nM1T\n Scarborough\n Clarks Corners, Tam O'Shanter, Sullivan\nM2T\n Not assigned\n Not assigned\nM3T\n Not assigned\n Not assigned\nM4T\n Central Toronto\n Moore Park, Summerhill East\nM5T\n Downtown Toronto\n Kensington Market, Chinatown, Grange Park\nM6T\n Not assigned\n Not assigned\nM7T\n Not assigned\n Not assigned\nM8T\n Not assigned\n Not assigned\nM9T\n Not assigned\n Not assigned\nM1V\n Scarborough\n Milliken, Agincourt North, Steeles East, L'Amoreaux East\nM2V\n Not assigned\n Not assigned\nM3V\n Not assigned\n Not assigned\nM4V\n Central Toronto\n Summerhill West, Rathnelly, South Hill, Forest Hill SE, Deer Park\nM5V\n Downtown Toronto\n CN Tower, King and Spadina, Railway Lands, Harbourfront West, Bathurst Quay, South Niagara, Island airport\nM6V\n Not assigned\n Not assigned\nM7V\n Not assigned\n Not assigned\nM8V\n Etobicoke\n New Toronto, Mimico South, Humber Bay Shores\nM9V\n Etobicoke\n South Steeles, Silverstone, Humbergate, Jamestown, Mount Olive, Beaumond Heights, Thistletown, Albion Gardens\nM1W\n Scarborough\n Steeles West, L'Amoreaux West\nM2W\n Not assigned\n Not assigned\nM3W\n Not assigned\n Not assigned\nM4W\n Downtown Toronto\n Rosedale\nM5W\n Downtown Toronto\n Stn A PO Boxes\nM6W\n Not assigned\n Not assigned\nM7W\n Not assigned\n Not assigned\nM8W\n Etobicoke\n Alderwood, Long Branch\nM9W\n Etobicoke\n Northwest, West Humber - Clairville\nM1X\n Scarborough\n Upper Rouge\nM2X\n Not assigned\n Not assigned\nM3X\n Not assigned\n Not assigned\nM4X\n Downtown Toronto\n St. James Town, Cabbagetown\nM5X\n Downtown Toronto\n First Canadian Place, Underground city\nM6X\n Not assigned\n Not assigned\nM7X\n Not assigned\n Not assigned\nM8X\n Etobicoke\n The Kingsway, Montgomery Road, Old Mill North\nM9X\n Not assigned\n Not assigned\nM1Y\n Not assigned\n Not assigned\nM2Y\n Not assigned\n Not assigned\nM3Y\n Not assigned\n Not assigned\nM4Y\n Downtown Toronto\n Church and Wellesley\nM5Y\n Not assigned\n Not assigned\nM6Y\n Not assigned\n Not assigned\nM7Y\n East Toronto\n Business reply mail Processing Centre, South Central Letter Processing Plant Toronto\nM8Y\n Etobicoke\n Old Mill South, King's Mill Park, Sunnylea, Humber Bay, Mimico NE, The Queensway East, Royal York South East, Kingsway Park South East\nM9Y\n Not assigned\n Not assigned\nM1Z\n Not assigned\n Not assigned\nM2Z\n Not assigned\n Not assigned\nM3Z\n Not assigned\n Not assigned\nM4Z\n Not assigned\n Not assigned\nM5Z\n Not assigned\n Not assigned\nM6Z\n Not assigned\n Not assigned\nM7Z\n Not assigned\n Not assigned\nM8Z\n Etobicoke\n Mimico NW, The Queensway West, South of Bloor, Kingsway Park South West, Royal York South West\nM9Z\n Not assigned\n Not assigned\n\n",
                    "name": "stdout"
                }
            ]
        },
        {
            "metadata": {},
            "cell_type": "markdown",
            "source": "#### Loading Table to CSV File"
        },
        {
            "metadata": {},
            "cell_type": "code",
            "source": "csv_file = open('toronto.csv', 'wb')\ncsv_file.write(bytes(table1,encoding=\"ascii\",errors=\"ignore\"))",
            "execution_count": 169,
            "outputs": [
                {
                    "output_type": "execute_result",
                    "execution_count": 169,
                    "data": {
                        "text/plain": "7590"
                    },
                    "metadata": {}
                }
            ]
        },
        {
            "metadata": {},
            "cell_type": "markdown",
            "source": "#### Converting Table Values to Data Frame"
        },
        {
            "metadata": {},
            "cell_type": "code",
            "source": "col_names = [\"col1\", \"col2\", \"col3\"]\ndf = pd.read_csv('toronto.csv', names=col_names)\ndf.columns = ['Postalcode', 'Borough', 'Neighbourhood']\ndf",
            "execution_count": 170,
            "outputs": [
                {
                    "output_type": "execute_result",
                    "execution_count": 170,
                    "data": {
                        "text/plain": "            Postalcode                         Borough    Neighbourhood\n0                  M1A                             NaN              NaN\n1         Not assigned                             NaN              NaN\n2         Not assigned                             NaN              NaN\n3                  M2A                             NaN              NaN\n4         Not assigned                             NaN              NaN\n5         Not assigned                             NaN              NaN\n6                  M3A                             NaN              NaN\n7           North York                             NaN              NaN\n8            Parkwoods                             NaN              NaN\n9                  M4A                             NaN              NaN\n10          North York                             NaN              NaN\n11    Victoria Village                             NaN              NaN\n12                 M5A                             NaN              NaN\n13    Downtown Toronto                             NaN              NaN\n14         Regent Park                    Harbourfront              NaN\n15                 M6A                             NaN              NaN\n16          North York                             NaN              NaN\n17      Lawrence Manor                Lawrence Heights              NaN\n18                 M7A                             NaN              NaN\n19    Downtown Toronto                             NaN              NaN\n20        Queen's Park   Ontario Provincial Government              NaN\n21                 M8A                             NaN              NaN\n22        Not assigned                             NaN              NaN\n23        Not assigned                             NaN              NaN\n24                 M9A                             NaN              NaN\n25           Etobicoke                             NaN              NaN\n26    Islington Avenue           Humber Valley Village              NaN\n27                 M1B                             NaN              NaN\n28         Scarborough                             NaN              NaN\n29             Malvern                           Rouge              NaN\n..                 ...                             ...              ...\n510                M9Y                             NaN              NaN\n511       Not assigned                             NaN              NaN\n512       Not assigned                             NaN              NaN\n513                M1Z                             NaN              NaN\n514       Not assigned                             NaN              NaN\n515       Not assigned                             NaN              NaN\n516                M2Z                             NaN              NaN\n517       Not assigned                             NaN              NaN\n518       Not assigned                             NaN              NaN\n519                M3Z                             NaN              NaN\n520       Not assigned                             NaN              NaN\n521       Not assigned                             NaN              NaN\n522                M4Z                             NaN              NaN\n523       Not assigned                             NaN              NaN\n524       Not assigned                             NaN              NaN\n525                M5Z                             NaN              NaN\n526       Not assigned                             NaN              NaN\n527       Not assigned                             NaN              NaN\n528                M6Z                             NaN              NaN\n529       Not assigned                             NaN              NaN\n530       Not assigned                             NaN              NaN\n531                M7Z                             NaN              NaN\n532       Not assigned                             NaN              NaN\n533       Not assigned                             NaN              NaN\n534                M8Z                             NaN              NaN\n535          Etobicoke                             NaN              NaN\n536          Mimico NW              The Queensway West   South of Bloor\n537                M9Z                             NaN              NaN\n538       Not assigned                             NaN              NaN\n539       Not assigned                             NaN              NaN\n\n[540 rows x 3 columns]",
                        "text/html": "<div>\n<style scoped>\n    .dataframe tbody tr th:only-of-type {\n        vertical-align: middle;\n    }\n\n    .dataframe tbody tr th {\n        vertical-align: top;\n    }\n\n    .dataframe thead th {\n        text-align: right;\n    }\n</style>\n<table border=\"1\" class=\"dataframe\">\n  <thead>\n    <tr style=\"text-align: right;\">\n      <th></th>\n      <th>Postalcode</th>\n      <th>Borough</th>\n      <th>Neighbourhood</th>\n    </tr>\n  </thead>\n  <tbody>\n    <tr>\n      <th>0</th>\n      <td>M1A</td>\n      <td>NaN</td>\n      <td>NaN</td>\n    </tr>\n    <tr>\n      <th>1</th>\n      <td>Not assigned</td>\n      <td>NaN</td>\n      <td>NaN</td>\n    </tr>\n    <tr>\n      <th>2</th>\n      <td>Not assigned</td>\n      <td>NaN</td>\n      <td>NaN</td>\n    </tr>\n    <tr>\n      <th>3</th>\n      <td>M2A</td>\n      <td>NaN</td>\n      <td>NaN</td>\n    </tr>\n    <tr>\n      <th>4</th>\n      <td>Not assigned</td>\n      <td>NaN</td>\n      <td>NaN</td>\n    </tr>\n    <tr>\n      <th>5</th>\n      <td>Not assigned</td>\n      <td>NaN</td>\n      <td>NaN</td>\n    </tr>\n    <tr>\n      <th>6</th>\n      <td>M3A</td>\n      <td>NaN</td>\n      <td>NaN</td>\n    </tr>\n    <tr>\n      <th>7</th>\n      <td>North York</td>\n      <td>NaN</td>\n      <td>NaN</td>\n    </tr>\n    <tr>\n      <th>8</th>\n      <td>Parkwoods</td>\n      <td>NaN</td>\n      <td>NaN</td>\n    </tr>\n    <tr>\n      <th>9</th>\n      <td>M4A</td>\n      <td>NaN</td>\n      <td>NaN</td>\n    </tr>\n    <tr>\n      <th>10</th>\n      <td>North York</td>\n      <td>NaN</td>\n      <td>NaN</td>\n    </tr>\n    <tr>\n      <th>11</th>\n      <td>Victoria Village</td>\n      <td>NaN</td>\n      <td>NaN</td>\n    </tr>\n    <tr>\n      <th>12</th>\n      <td>M5A</td>\n      <td>NaN</td>\n      <td>NaN</td>\n    </tr>\n    <tr>\n      <th>13</th>\n      <td>Downtown Toronto</td>\n      <td>NaN</td>\n      <td>NaN</td>\n    </tr>\n    <tr>\n      <th>14</th>\n      <td>Regent Park</td>\n      <td>Harbourfront</td>\n      <td>NaN</td>\n    </tr>\n    <tr>\n      <th>15</th>\n      <td>M6A</td>\n      <td>NaN</td>\n      <td>NaN</td>\n    </tr>\n    <tr>\n      <th>16</th>\n      <td>North York</td>\n      <td>NaN</td>\n      <td>NaN</td>\n    </tr>\n    <tr>\n      <th>17</th>\n      <td>Lawrence Manor</td>\n      <td>Lawrence Heights</td>\n      <td>NaN</td>\n    </tr>\n    <tr>\n      <th>18</th>\n      <td>M7A</td>\n      <td>NaN</td>\n      <td>NaN</td>\n    </tr>\n    <tr>\n      <th>19</th>\n      <td>Downtown Toronto</td>\n      <td>NaN</td>\n      <td>NaN</td>\n    </tr>\n    <tr>\n      <th>20</th>\n      <td>Queen's Park</td>\n      <td>Ontario Provincial Government</td>\n      <td>NaN</td>\n    </tr>\n    <tr>\n      <th>21</th>\n      <td>M8A</td>\n      <td>NaN</td>\n      <td>NaN</td>\n    </tr>\n    <tr>\n      <th>22</th>\n      <td>Not assigned</td>\n      <td>NaN</td>\n      <td>NaN</td>\n    </tr>\n    <tr>\n      <th>23</th>\n      <td>Not assigned</td>\n      <td>NaN</td>\n      <td>NaN</td>\n    </tr>\n    <tr>\n      <th>24</th>\n      <td>M9A</td>\n      <td>NaN</td>\n      <td>NaN</td>\n    </tr>\n    <tr>\n      <th>25</th>\n      <td>Etobicoke</td>\n      <td>NaN</td>\n      <td>NaN</td>\n    </tr>\n    <tr>\n      <th>26</th>\n      <td>Islington Avenue</td>\n      <td>Humber Valley Village</td>\n      <td>NaN</td>\n    </tr>\n    <tr>\n      <th>27</th>\n      <td>M1B</td>\n      <td>NaN</td>\n      <td>NaN</td>\n    </tr>\n    <tr>\n      <th>28</th>\n      <td>Scarborough</td>\n      <td>NaN</td>\n      <td>NaN</td>\n    </tr>\n    <tr>\n      <th>29</th>\n      <td>Malvern</td>\n      <td>Rouge</td>\n      <td>NaN</td>\n    </tr>\n    <tr>\n      <th>...</th>\n      <td>...</td>\n      <td>...</td>\n      <td>...</td>\n    </tr>\n    <tr>\n      <th>510</th>\n      <td>M9Y</td>\n      <td>NaN</td>\n      <td>NaN</td>\n    </tr>\n    <tr>\n      <th>511</th>\n      <td>Not assigned</td>\n      <td>NaN</td>\n      <td>NaN</td>\n    </tr>\n    <tr>\n      <th>512</th>\n      <td>Not assigned</td>\n      <td>NaN</td>\n      <td>NaN</td>\n    </tr>\n    <tr>\n      <th>513</th>\n      <td>M1Z</td>\n      <td>NaN</td>\n      <td>NaN</td>\n    </tr>\n    <tr>\n      <th>514</th>\n      <td>Not assigned</td>\n      <td>NaN</td>\n      <td>NaN</td>\n    </tr>\n    <tr>\n      <th>515</th>\n      <td>Not assigned</td>\n      <td>NaN</td>\n      <td>NaN</td>\n    </tr>\n    <tr>\n      <th>516</th>\n      <td>M2Z</td>\n      <td>NaN</td>\n      <td>NaN</td>\n    </tr>\n    <tr>\n      <th>517</th>\n      <td>Not assigned</td>\n      <td>NaN</td>\n      <td>NaN</td>\n    </tr>\n    <tr>\n      <th>518</th>\n      <td>Not assigned</td>\n      <td>NaN</td>\n      <td>NaN</td>\n    </tr>\n    <tr>\n      <th>519</th>\n      <td>M3Z</td>\n      <td>NaN</td>\n      <td>NaN</td>\n    </tr>\n    <tr>\n      <th>520</th>\n      <td>Not assigned</td>\n      <td>NaN</td>\n      <td>NaN</td>\n    </tr>\n    <tr>\n      <th>521</th>\n      <td>Not assigned</td>\n      <td>NaN</td>\n      <td>NaN</td>\n    </tr>\n    <tr>\n      <th>522</th>\n      <td>M4Z</td>\n      <td>NaN</td>\n      <td>NaN</td>\n    </tr>\n    <tr>\n      <th>523</th>\n      <td>Not assigned</td>\n      <td>NaN</td>\n      <td>NaN</td>\n    </tr>\n    <tr>\n      <th>524</th>\n      <td>Not assigned</td>\n      <td>NaN</td>\n      <td>NaN</td>\n    </tr>\n    <tr>\n      <th>525</th>\n      <td>M5Z</td>\n      <td>NaN</td>\n      <td>NaN</td>\n    </tr>\n    <tr>\n      <th>526</th>\n      <td>Not assigned</td>\n      <td>NaN</td>\n      <td>NaN</td>\n    </tr>\n    <tr>\n      <th>527</th>\n      <td>Not assigned</td>\n      <td>NaN</td>\n      <td>NaN</td>\n    </tr>\n    <tr>\n      <th>528</th>\n      <td>M6Z</td>\n      <td>NaN</td>\n      <td>NaN</td>\n    </tr>\n    <tr>\n      <th>529</th>\n      <td>Not assigned</td>\n      <td>NaN</td>\n      <td>NaN</td>\n    </tr>\n    <tr>\n      <th>530</th>\n      <td>Not assigned</td>\n      <td>NaN</td>\n      <td>NaN</td>\n    </tr>\n    <tr>\n      <th>531</th>\n      <td>M7Z</td>\n      <td>NaN</td>\n      <td>NaN</td>\n    </tr>\n    <tr>\n      <th>532</th>\n      <td>Not assigned</td>\n      <td>NaN</td>\n      <td>NaN</td>\n    </tr>\n    <tr>\n      <th>533</th>\n      <td>Not assigned</td>\n      <td>NaN</td>\n      <td>NaN</td>\n    </tr>\n    <tr>\n      <th>534</th>\n      <td>M8Z</td>\n      <td>NaN</td>\n      <td>NaN</td>\n    </tr>\n    <tr>\n      <th>535</th>\n      <td>Etobicoke</td>\n      <td>NaN</td>\n      <td>NaN</td>\n    </tr>\n    <tr>\n      <th>536</th>\n      <td>Mimico NW</td>\n      <td>The Queensway West</td>\n      <td>South of Bloor</td>\n    </tr>\n    <tr>\n      <th>537</th>\n      <td>M9Z</td>\n      <td>NaN</td>\n      <td>NaN</td>\n    </tr>\n    <tr>\n      <th>538</th>\n      <td>Not assigned</td>\n      <td>NaN</td>\n      <td>NaN</td>\n    </tr>\n    <tr>\n      <th>539</th>\n      <td>Not assigned</td>\n      <td>NaN</td>\n      <td>NaN</td>\n    </tr>\n  </tbody>\n</table>\n<p>540 rows \u00d7 3 columns</p>\n</div>"
                    },
                    "metadata": {}
                }
            ]
        },
        {
            "metadata": {},
            "cell_type": "code",
            "source": "for n in range(539):\n    df['Borough'][n]=df['Postalcode'][n+1]\n\ndf.head()",
            "execution_count": 171,
            "outputs": [
                {
                    "output_type": "execute_result",
                    "execution_count": 171,
                    "data": {
                        "text/plain": "      Postalcode        Borough Neighbourhood\n0            M1A   Not assigned           NaN\n1   Not assigned   Not assigned           NaN\n2   Not assigned            M2A           NaN\n3            M2A   Not assigned           NaN\n4   Not assigned   Not assigned           NaN",
                        "text/html": "<div>\n<style scoped>\n    .dataframe tbody tr th:only-of-type {\n        vertical-align: middle;\n    }\n\n    .dataframe tbody tr th {\n        vertical-align: top;\n    }\n\n    .dataframe thead th {\n        text-align: right;\n    }\n</style>\n<table border=\"1\" class=\"dataframe\">\n  <thead>\n    <tr style=\"text-align: right;\">\n      <th></th>\n      <th>Postalcode</th>\n      <th>Borough</th>\n      <th>Neighbourhood</th>\n    </tr>\n  </thead>\n  <tbody>\n    <tr>\n      <th>0</th>\n      <td>M1A</td>\n      <td>Not assigned</td>\n      <td>NaN</td>\n    </tr>\n    <tr>\n      <th>1</th>\n      <td>Not assigned</td>\n      <td>Not assigned</td>\n      <td>NaN</td>\n    </tr>\n    <tr>\n      <th>2</th>\n      <td>Not assigned</td>\n      <td>M2A</td>\n      <td>NaN</td>\n    </tr>\n    <tr>\n      <th>3</th>\n      <td>M2A</td>\n      <td>Not assigned</td>\n      <td>NaN</td>\n    </tr>\n    <tr>\n      <th>4</th>\n      <td>Not assigned</td>\n      <td>Not assigned</td>\n      <td>NaN</td>\n    </tr>\n  </tbody>\n</table>\n</div>"
                    },
                    "metadata": {}
                }
            ]
        },
        {
            "metadata": {},
            "cell_type": "code",
            "source": "for i in range(539):\n    df['Neighbourhood'][i]=df['Borough'][i+1]\n\ndf.head()",
            "execution_count": 172,
            "outputs": [
                {
                    "output_type": "execute_result",
                    "execution_count": 172,
                    "data": {
                        "text/plain": "      Postalcode        Borough  Neighbourhood\n0            M1A   Not assigned   Not assigned\n1   Not assigned   Not assigned            M2A\n2   Not assigned            M2A   Not assigned\n3            M2A   Not assigned   Not assigned\n4   Not assigned   Not assigned            M3A",
                        "text/html": "<div>\n<style scoped>\n    .dataframe tbody tr th:only-of-type {\n        vertical-align: middle;\n    }\n\n    .dataframe tbody tr th {\n        vertical-align: top;\n    }\n\n    .dataframe thead th {\n        text-align: right;\n    }\n</style>\n<table border=\"1\" class=\"dataframe\">\n  <thead>\n    <tr style=\"text-align: right;\">\n      <th></th>\n      <th>Postalcode</th>\n      <th>Borough</th>\n      <th>Neighbourhood</th>\n    </tr>\n  </thead>\n  <tbody>\n    <tr>\n      <th>0</th>\n      <td>M1A</td>\n      <td>Not assigned</td>\n      <td>Not assigned</td>\n    </tr>\n    <tr>\n      <th>1</th>\n      <td>Not assigned</td>\n      <td>Not assigned</td>\n      <td>M2A</td>\n    </tr>\n    <tr>\n      <th>2</th>\n      <td>Not assigned</td>\n      <td>M2A</td>\n      <td>Not assigned</td>\n    </tr>\n    <tr>\n      <th>3</th>\n      <td>M2A</td>\n      <td>Not assigned</td>\n      <td>Not assigned</td>\n    </tr>\n    <tr>\n      <th>4</th>\n      <td>Not assigned</td>\n      <td>Not assigned</td>\n      <td>M3A</td>\n    </tr>\n  </tbody>\n</table>\n</div>"
                    },
                    "metadata": {}
                }
            ]
        },
        {
            "metadata": {},
            "cell_type": "code",
            "source": "df_2=df.iloc[::3]\ndf_2.reset_index\ndf_2.head()",
            "execution_count": 173,
            "outputs": [
                {
                    "output_type": "execute_result",
                    "execution_count": 173,
                    "data": {
                        "text/plain": "   Postalcode            Borough      Neighbourhood\n0         M1A       Not assigned       Not assigned\n3         M2A       Not assigned       Not assigned\n6         M3A         North York          Parkwoods\n9         M4A         North York   Victoria Village\n12        M5A   Downtown Toronto        Regent Park",
                        "text/html": "<div>\n<style scoped>\n    .dataframe tbody tr th:only-of-type {\n        vertical-align: middle;\n    }\n\n    .dataframe tbody tr th {\n        vertical-align: top;\n    }\n\n    .dataframe thead th {\n        text-align: right;\n    }\n</style>\n<table border=\"1\" class=\"dataframe\">\n  <thead>\n    <tr style=\"text-align: right;\">\n      <th></th>\n      <th>Postalcode</th>\n      <th>Borough</th>\n      <th>Neighbourhood</th>\n    </tr>\n  </thead>\n  <tbody>\n    <tr>\n      <th>0</th>\n      <td>M1A</td>\n      <td>Not assigned</td>\n      <td>Not assigned</td>\n    </tr>\n    <tr>\n      <th>3</th>\n      <td>M2A</td>\n      <td>Not assigned</td>\n      <td>Not assigned</td>\n    </tr>\n    <tr>\n      <th>6</th>\n      <td>M3A</td>\n      <td>North York</td>\n      <td>Parkwoods</td>\n    </tr>\n    <tr>\n      <th>9</th>\n      <td>M4A</td>\n      <td>North York</td>\n      <td>Victoria Village</td>\n    </tr>\n    <tr>\n      <th>12</th>\n      <td>M5A</td>\n      <td>Downtown Toronto</td>\n      <td>Regent Park</td>\n    </tr>\n  </tbody>\n</table>\n</div>"
                    },
                    "metadata": {}
                }
            ]
        },
        {
            "metadata": {},
            "cell_type": "markdown",
            "source": "#### Deleting 'Not Assigned' Values"
        },
        {
            "metadata": {},
            "cell_type": "code",
            "source": "\nx=df_2[df_2['Borough']==' Not assigned'].index\nx\ndf_2.drop(x,inplace=True)\ndf_2.head(10)",
            "execution_count": 174,
            "outputs": [
                {
                    "output_type": "execute_result",
                    "execution_count": 174,
                    "data": {
                        "text/plain": "   Postalcode            Borough      Neighbourhood\n6         M3A         North York          Parkwoods\n9         M4A         North York   Victoria Village\n12        M5A   Downtown Toronto        Regent Park\n15        M6A         North York     Lawrence Manor\n18        M7A   Downtown Toronto       Queen's Park\n24        M9A          Etobicoke   Islington Avenue\n27        M1B        Scarborough            Malvern\n33        M3B         North York          Don Mills\n36        M4B          East York      Parkview Hill\n39        M5B   Downtown Toronto    Garden District",
                        "text/html": "<div>\n<style scoped>\n    .dataframe tbody tr th:only-of-type {\n        vertical-align: middle;\n    }\n\n    .dataframe tbody tr th {\n        vertical-align: top;\n    }\n\n    .dataframe thead th {\n        text-align: right;\n    }\n</style>\n<table border=\"1\" class=\"dataframe\">\n  <thead>\n    <tr style=\"text-align: right;\">\n      <th></th>\n      <th>Postalcode</th>\n      <th>Borough</th>\n      <th>Neighbourhood</th>\n    </tr>\n  </thead>\n  <tbody>\n    <tr>\n      <th>6</th>\n      <td>M3A</td>\n      <td>North York</td>\n      <td>Parkwoods</td>\n    </tr>\n    <tr>\n      <th>9</th>\n      <td>M4A</td>\n      <td>North York</td>\n      <td>Victoria Village</td>\n    </tr>\n    <tr>\n      <th>12</th>\n      <td>M5A</td>\n      <td>Downtown Toronto</td>\n      <td>Regent Park</td>\n    </tr>\n    <tr>\n      <th>15</th>\n      <td>M6A</td>\n      <td>North York</td>\n      <td>Lawrence Manor</td>\n    </tr>\n    <tr>\n      <th>18</th>\n      <td>M7A</td>\n      <td>Downtown Toronto</td>\n      <td>Queen's Park</td>\n    </tr>\n    <tr>\n      <th>24</th>\n      <td>M9A</td>\n      <td>Etobicoke</td>\n      <td>Islington Avenue</td>\n    </tr>\n    <tr>\n      <th>27</th>\n      <td>M1B</td>\n      <td>Scarborough</td>\n      <td>Malvern</td>\n    </tr>\n    <tr>\n      <th>33</th>\n      <td>M3B</td>\n      <td>North York</td>\n      <td>Don Mills</td>\n    </tr>\n    <tr>\n      <th>36</th>\n      <td>M4B</td>\n      <td>East York</td>\n      <td>Parkview Hill</td>\n    </tr>\n    <tr>\n      <th>39</th>\n      <td>M5B</td>\n      <td>Downtown Toronto</td>\n      <td>Garden District</td>\n    </tr>\n  </tbody>\n</table>\n</div>"
                    },
                    "metadata": {}
                }
            ]
        },
        {
            "metadata": {},
            "cell_type": "code",
            "source": "df_3=df_2.reset_index()\ndf_n=df_3.drop(['index'], axis=1)\ndf_n.head()",
            "execution_count": 176,
            "outputs": []
        },
        {
            "metadata": {},
            "cell_type": "markdown",
            "source": "#### Using .shape method to find the number of rows of DF"
        },
        {
            "metadata": {},
            "cell_type": "code",
            "source": "print('Rows of DF,Columns of DF',df_n.shape)",
            "execution_count": 177,
            "outputs": [
                {
                    "output_type": "stream",
                    "text": "Rows of DF,Columns of DF (103, 3)\n",
                    "name": "stdout"
                }
            ]
        },
        {
            "metadata": {},
            "cell_type": "markdown",
            "source": "### Dataframe with LAT, LNG Values"
        },
        {
            "metadata": {},
            "cell_type": "code",
            "source": "!wget -q -O 'Toronto_location.csv' https://cocl.us/Geospatial_data\n\ndf_loc = pd.read_csv('Toronto_location.csv')\ndf_loc.head()",
            "execution_count": 157,
            "outputs": [
                {
                    "output_type": "execute_result",
                    "execution_count": 157,
                    "data": {
                        "text/plain": "  Postal Code   Latitude  Longitude\n0         M1B  43.806686 -79.194353\n1         M1C  43.784535 -79.160497\n2         M1E  43.763573 -79.188711\n3         M1G  43.770992 -79.216917\n4         M1H  43.773136 -79.239476",
                        "text/html": "<div>\n<style scoped>\n    .dataframe tbody tr th:only-of-type {\n        vertical-align: middle;\n    }\n\n    .dataframe tbody tr th {\n        vertical-align: top;\n    }\n\n    .dataframe thead th {\n        text-align: right;\n    }\n</style>\n<table border=\"1\" class=\"dataframe\">\n  <thead>\n    <tr style=\"text-align: right;\">\n      <th></th>\n      <th>Postal Code</th>\n      <th>Latitude</th>\n      <th>Longitude</th>\n    </tr>\n  </thead>\n  <tbody>\n    <tr>\n      <th>0</th>\n      <td>M1B</td>\n      <td>43.806686</td>\n      <td>-79.194353</td>\n    </tr>\n    <tr>\n      <th>1</th>\n      <td>M1C</td>\n      <td>43.784535</td>\n      <td>-79.160497</td>\n    </tr>\n    <tr>\n      <th>2</th>\n      <td>M1E</td>\n      <td>43.763573</td>\n      <td>-79.188711</td>\n    </tr>\n    <tr>\n      <th>3</th>\n      <td>M1G</td>\n      <td>43.770992</td>\n      <td>-79.216917</td>\n    </tr>\n    <tr>\n      <th>4</th>\n      <td>M1H</td>\n      <td>43.773136</td>\n      <td>-79.239476</td>\n    </tr>\n  </tbody>\n</table>\n</div>"
                    },
                    "metadata": {}
                }
            ]
        },
        {
            "metadata": {},
            "cell_type": "markdown",
            "source": "#### Correcting the column names and checking the shape of the data frame"
        },
        {
            "metadata": {},
            "cell_type": "code",
            "source": "df_loc.columns=['Postalcode','Latitude','Longitude']\ndf_loc.shape\n",
            "execution_count": 158,
            "outputs": [
                {
                    "output_type": "execute_result",
                    "execution_count": 158,
                    "data": {
                        "text/plain": "(103, 3)"
                    },
                    "metadata": {}
                }
            ]
        },
        {
            "metadata": {},
            "cell_type": "markdown",
            "source": "#### Joining the data frames to get Lat & Long for the PCs"
        },
        {
            "metadata": {},
            "cell_type": "code",
            "source": "df_merg=pd.merge(df_n,df_loc,on='Postalcode')",
            "execution_count": 159,
            "outputs": []
        },
        {
            "metadata": {},
            "cell_type": "code",
            "source": "df_merged=df_merg.drop(['index'], axis=1)\ndf_merged.head()",
            "execution_count": 165,
            "outputs": [
                {
                    "output_type": "execute_result",
                    "execution_count": 165,
                    "data": {
                        "text/plain": "  Postalcode            Borough      Neighbourhood   Latitude  Longitude\n0        M3A         North York          Parkwoods  43.753259 -79.329656\n1        M4A         North York   Victoria Village  43.725882 -79.315572\n2        M5A   Downtown Toronto        Regent Park  43.654260 -79.360636\n3        M6A         North York     Lawrence Manor  43.718518 -79.464763\n4        M7A   Downtown Toronto       Queen's Park  43.662301 -79.389494",
                        "text/html": "<div>\n<style scoped>\n    .dataframe tbody tr th:only-of-type {\n        vertical-align: middle;\n    }\n\n    .dataframe tbody tr th {\n        vertical-align: top;\n    }\n\n    .dataframe thead th {\n        text-align: right;\n    }\n</style>\n<table border=\"1\" class=\"dataframe\">\n  <thead>\n    <tr style=\"text-align: right;\">\n      <th></th>\n      <th>Postalcode</th>\n      <th>Borough</th>\n      <th>Neighbourhood</th>\n      <th>Latitude</th>\n      <th>Longitude</th>\n    </tr>\n  </thead>\n  <tbody>\n    <tr>\n      <th>0</th>\n      <td>M3A</td>\n      <td>North York</td>\n      <td>Parkwoods</td>\n      <td>43.753259</td>\n      <td>-79.329656</td>\n    </tr>\n    <tr>\n      <th>1</th>\n      <td>M4A</td>\n      <td>North York</td>\n      <td>Victoria Village</td>\n      <td>43.725882</td>\n      <td>-79.315572</td>\n    </tr>\n    <tr>\n      <th>2</th>\n      <td>M5A</td>\n      <td>Downtown Toronto</td>\n      <td>Regent Park</td>\n      <td>43.654260</td>\n      <td>-79.360636</td>\n    </tr>\n    <tr>\n      <th>3</th>\n      <td>M6A</td>\n      <td>North York</td>\n      <td>Lawrence Manor</td>\n      <td>43.718518</td>\n      <td>-79.464763</td>\n    </tr>\n    <tr>\n      <th>4</th>\n      <td>M7A</td>\n      <td>Downtown Toronto</td>\n      <td>Queen's Park</td>\n      <td>43.662301</td>\n      <td>-79.389494</td>\n    </tr>\n  </tbody>\n</table>\n</div>"
                    },
                    "metadata": {}
                }
            ]
        },
        {
            "metadata": {},
            "cell_type": "code",
            "source": "",
            "execution_count": null,
            "outputs": []
        }
    ],
    "metadata": {
        "kernelspec": {
            "name": "python3",
            "display_name": "Python 3.6",
            "language": "python"
        },
        "language_info": {
            "name": "python",
            "version": "3.6.9",
            "mimetype": "text/x-python",
            "codemirror_mode": {
                "name": "ipython",
                "version": 3
            },
            "pygments_lexer": "ipython3",
            "nbconvert_exporter": "python",
            "file_extension": ".py"
        }
    },
    "nbformat": 4,
    "nbformat_minor": 1
}