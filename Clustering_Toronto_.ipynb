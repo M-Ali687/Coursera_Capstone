{
    "cells": [
        {
            "metadata": {},
            "cell_type": "markdown",
            "source": "### Segmenting and Clustering Neighborhoods in Toronto"
        },
        {
            "metadata": {},
            "cell_type": "markdown",
            "source": "#### Importing Libraries"
        },
        {
            "metadata": {},
            "cell_type": "code",
            "source": "from bs4 import BeautifulSoup\nimport requests   # library to handle requests\nimport lxml       # parse the website in lxml format\nimport numpy as np\nimport pandas as pd",
            "execution_count": 219,
            "outputs": []
        },
        {
            "metadata": {},
            "cell_type": "markdown",
            "source": "#### Scraping website using Beautiful Soup"
        },
        {
            "metadata": {},
            "cell_type": "code",
            "source": "source = requests.get('https://en.wikipedia.org/wiki/List_of_postal_codes_of_Canada:_M').text\nsoup = BeautifulSoup(source, 'lxml')\ntable = soup.find('table', class_='wikitable sortable')\n# print(table.prettify())",
            "execution_count": 220,
            "outputs": []
        },
        {
            "metadata": {},
            "cell_type": "markdown",
            "source": "#### Getting Table Values"
        },
        {
            "metadata": {},
            "cell_type": "code",
            "source": "table1 = \"\"\nfor tr in table.find_all('tr'):\n    row = \"\"\n    for tds in tr.find_all('td'):\n        row = row + tds.text\n    table1 = table1 + row[1:]\nprint(table1)",
            "execution_count": 221,
            "outputs": [
                {
                    "output_type": "stream",
                    "text": "1A\nNot assigned\nNot assigned\n2A\nNot assigned\nNot assigned\n3A\nNorth York\nParkwoods\n4A\nNorth York\nVictoria Village\n5A\nDowntown Toronto\nRegent Park, Harbourfront\n6A\nNorth York\nLawrence Manor, Lawrence Heights\n7A\nDowntown Toronto\nQueen's Park, Ontario Provincial Government\n8A\nNot assigned\nNot assigned\n9A\nEtobicoke\nIslington Avenue, Humber Valley Village\n1B\nScarborough\nMalvern, Rouge\n2B\nNot assigned\nNot assigned\n3B\nNorth York\nDon Mills\n4B\nEast York\nParkview Hill, Woodbine Gardens\n5B\nDowntown Toronto\nGarden District, Ryerson\n6B\nNorth York\nGlencairn\n7B\nNot assigned\nNot assigned\n8B\nNot assigned\nNot assigned\n9B\nEtobicoke\nWest Deane Park, Princess Gardens, Martin Grove, Islington, Cloverdale\n1C\nScarborough\nRouge Hill, Port Union, Highland Creek\n2C\nNot assigned\nNot assigned\n3C\nNorth York\nDon Mills\n4C\nEast York\nWoodbine Heights\n5C\nDowntown Toronto\nSt. James Town\n6C\nYork\nHumewood-Cedarvale\n7C\nNot assigned\nNot assigned\n8C\nNot assigned\nNot assigned\n9C\nEtobicoke\nEringate, Bloordale Gardens, Old Burnhamthorpe, Markland Wood\n1E\nScarborough\nGuildwood, Morningside, West Hill\n2E\nNot assigned\nNot assigned\n3E\nNot assigned\nNot assigned\n4E\nEast Toronto\nThe Beaches\n5E\nDowntown Toronto\nBerczy Park\n6E\nYork\nCaledonia-Fairbanks\n7E\nNot assigned\nNot assigned\n8E\nNot assigned\nNot assigned\n9E\nNot assigned\nNot assigned\n1G\nScarborough\nWoburn\n2G\nNot assigned\nNot assigned\n3G\nNot assigned\nNot assigned\n4G\nEast York\nLeaside\n5G\nDowntown Toronto\nCentral Bay Street\n6G\nDowntown Toronto\nChristie\n7G\nNot assigned\nNot assigned\n8G\nNot assigned\nNot assigned\n9G\nNot assigned\nNot assigned\n1H\nScarborough\nCedarbrae\n2H\nNorth York\nHillcrest Village\n3H\nNorth York\nBathurst Manor, Wilson Heights, Downsview North\n4H\nEast York\nThorncliffe Park\n5H\nDowntown Toronto\nRichmond, Adelaide, King\n6H\nWest Toronto\nDufferin, Dovercourt Village\n7H\nNot assigned\nNot assigned\n8H\nNot assigned\nNot assigned\n9H\nNot assigned\nNot assigned\n1J\nScarborough\nScarborough Village\n2J\nNorth York\nFairview, Henry Farm, Oriole\n3J\nNorth York\nNorthwood Park, York University\n4J\nEast York\nEast Toronto, Broadview North (Old East York)\n5J\nDowntown Toronto\nHarbourfront East, Union Station, Toronto Islands\n6J\nWest Toronto\nLittle Portugal, Trinity\n7J\nNot assigned\nNot assigned\n8J\nNot assigned\nNot assigned\n9J\nNot assigned\nNot assigned\n1K\nScarborough\nKennedy Park, Ionview, East Birchmount Park\n2K\nNorth York\nBayview Village\n3K\nNorth York\nDownsview\n4K\nEast Toronto\nThe Danforth West, Riverdale\n5K\nDowntown Toronto\nToronto Dominion Centre, Design Exchange\n6K\nWest Toronto\nBrockton, Parkdale Village, Exhibition Place\n7K\nNot assigned\nNot assigned\n8K\nNot assigned\nNot assigned\n9K\nNot assigned\nNot assigned\n1L\nScarborough\nGolden Mile, Clairlea, Oakridge\n2L\nNorth York\nYork Mills, Silver Hills\n3L\nNorth York\nDownsview\n4L\nEast Toronto\nIndia Bazaar, The Beaches West\n5L\nDowntown Toronto\nCommerce Court, Victoria Hotel\n6L\nNorth York\nNorth Park, Maple Leaf Park, Upwood Park\n7L\nNot assigned\nNot assigned\n8L\nNot assigned\nNot assigned\n9L\nNorth York\nHumber Summit\n1M\nScarborough\nCliffside, Cliffcrest, Scarborough Village West\n2M\nNorth York\nWillowdale, Newtonbrook\n3M\nNorth York\nDownsview\n4M\nEast Toronto\nStudio District\n5M\nNorth York\nBedford Park, Lawrence Manor East\n6M\nYork\nDel Ray, Mount Dennis, Keelsdale and Silverthorn\n7M\nNot assigned\nNot assigned\n8M\nNot assigned\nNot assigned\n9M\nNorth York\nHumberlea, Emery\n1N\nScarborough\nBirch Cliff, Cliffside West\n2N\nNorth York\nWillowdale, Willowdale East\n3N\nNorth York\nDownsview\n4N\nCentral Toronto\nLawrence Park\n5N\nCentral Toronto\nRoselawn\n6N\nYork\nRunnymede, The Junction North\n7N\nNot assigned\nNot assigned\n8N\nNot assigned\nNot assigned\n9N\nYork\nWeston\n1P\nScarborough\nDorset Park, Wexford Heights, Scarborough Town Centre\n2P\nNorth York\nYork Mills West\n3P\nNot assigned\nNot assigned\n4P\nCentral Toronto\nDavisville North\n5P\nCentral Toronto\nForest Hill North & West, Forest Hill Road Park\n6P\nWest Toronto\nHigh Park, The Junction South\n7P\nNot assigned\nNot assigned\n8P\nNot assigned\nNot assigned\n9P\nEtobicoke\nWestmount\n1R\nScarborough\nWexford, Maryvale\n2R\nNorth York\nWillowdale, Willowdale West\n3R\nNot assigned\nNot assigned\n4R\nCentral Toronto\nNorth Toronto West,  Lawrence Park\n5R\nCentral Toronto\nThe Annex, North Midtown, Yorkville\n6R\nWest Toronto\nParkdale, Roncesvalles\n7R\nMississauga\nCanada Post Gateway Processing Centre\n8R\nNot assigned\nNot assigned\n9R\nEtobicoke\nKingsview Village, St. Phillips, Martin Grove Gardens, Richview Gardens\n1S\nScarborough\nAgincourt\n2S\nNot assigned\nNot assigned\n3S\nNot assigned\nNot assigned\n4S\nCentral Toronto\nDavisville\n5S\nDowntown Toronto\nUniversity of Toronto, Harbord\n6S\nWest Toronto\nRunnymede, Swansea\n7S\nNot assigned\nNot assigned\n8S\nNot assigned\nNot assigned\n9S\nNot assigned\nNot assigned\n1T\nScarborough\nClarks Corners, Tam O'Shanter, Sullivan\n2T\nNot assigned\nNot assigned\n3T\nNot assigned\nNot assigned\n4T\nCentral Toronto\nMoore Park, Summerhill East\n5T\nDowntown Toronto\nKensington Market, Chinatown, Grange Park\n6T\nNot assigned\nNot assigned\n7T\nNot assigned\nNot assigned\n8T\nNot assigned\nNot assigned\n9T\nNot assigned\nNot assigned\n1V\nScarborough\nMilliken, Agincourt North, Steeles East, L'Amoreaux East\n2V\nNot assigned\nNot assigned\n3V\nNot assigned\nNot assigned\n4V\nCentral Toronto\nSummerhill West, Rathnelly, South Hill, Forest Hill SE, Deer Park\n5V\nDowntown Toronto\nCN Tower, King and Spadina, Railway Lands, Harbourfront West, Bathurst Quay, South Niagara, Island airport\n6V\nNot assigned\nNot assigned\n7V\nNot assigned\nNot assigned\n8V\nEtobicoke\nNew Toronto, Mimico South, Humber Bay Shores\n9V\nEtobicoke\nSouth Steeles, Silverstone, Humbergate, Jamestown, Mount Olive, Beaumond Heights, Thistletown, Albion Gardens\n1W\nScarborough\nSteeles West, L'Amoreaux West\n2W\nNot assigned\nNot assigned\n3W\nNot assigned\nNot assigned\n4W\nDowntown Toronto\nRosedale\n5W\nDowntown Toronto\nStn A PO Boxes\n6W\nNot assigned\nNot assigned\n7W\nNot assigned\nNot assigned\n8W\nEtobicoke\nAlderwood, Long Branch\n9W\nEtobicoke\nNorthwest, West Humber - Clairville\n1X\nScarborough\nUpper Rouge\n2X\nNot assigned\nNot assigned\n3X\nNot assigned\nNot assigned\n4X\nDowntown Toronto\nSt. James Town, Cabbagetown\n5X\nDowntown Toronto\nFirst Canadian Place, Underground city\n6X\nNot assigned\nNot assigned\n7X\nNot assigned\nNot assigned\n8X\nEtobicoke\nThe Kingsway, Montgomery Road, Old Mill North\n9X\nNot assigned\nNot assigned\n1Y\nNot assigned\nNot assigned\n2Y\nNot assigned\nNot assigned\n3Y\nNot assigned\nNot assigned\n4Y\nDowntown Toronto\nChurch and Wellesley\n5Y\nNot assigned\nNot assigned\n6Y\nNot assigned\nNot assigned\n7Y\nEast Toronto\nBusiness reply mail Processing Centre, South Central Letter Processing Plant Toronto\n8Y\nEtobicoke\nOld Mill South, King's Mill Park, Sunnylea, Humber Bay, Mimico NE, The Queensway East, Royal York South East, Kingsway Park South East\n9Y\nNot assigned\nNot assigned\n1Z\nNot assigned\nNot assigned\n2Z\nNot assigned\nNot assigned\n3Z\nNot assigned\nNot assigned\n4Z\nNot assigned\nNot assigned\n5Z\nNot assigned\nNot assigned\n6Z\nNot assigned\nNot assigned\n7Z\nNot assigned\nNot assigned\n8Z\nEtobicoke\nMimico NW, The Queensway West, South of Bloor, Kingsway Park South West, Royal York South West\n9Z\nNot assigned\nNot assigned\n\n",
                    "name": "stdout"
                }
            ]
        },
        {
            "metadata": {},
            "cell_type": "markdown",
            "source": "#### Loading Table to CSV File"
        },
        {
            "metadata": {},
            "cell_type": "code",
            "source": "csv_file = open('toronto.csv', 'wb')\ncsv_file.write(bytes(table1,encoding=\"ascii\",errors=\"ignore\"))",
            "execution_count": 222,
            "outputs": [
                {
                    "output_type": "execute_result",
                    "execution_count": 222,
                    "data": {
                        "text/plain": "7050"
                    },
                    "metadata": {}
                }
            ]
        },
        {
            "metadata": {},
            "cell_type": "markdown",
            "source": "#### Converting Table Values to Data Frame"
        },
        {
            "metadata": {},
            "cell_type": "code",
            "source": "col_names = [\"col1\", \"col2\", \"col3\"]\ndf = pd.read_csv('toronto.csv', names=col_names)\ndf.columns = ['Postalcode', 'Borough', 'Neighbourhood']\n",
            "execution_count": 223,
            "outputs": []
        },
        {
            "metadata": {},
            "cell_type": "code",
            "source": "for n in range(539):\n    df['Borough'][n]=df['Postalcode'][n+1]\n    ",
            "execution_count": 224,
            "outputs": []
        },
        {
            "metadata": {},
            "cell_type": "code",
            "source": "for i in range(539):\n    df['Neighbourhood'][i]=df['Borough'][i+1]\n\ndf.head()",
            "execution_count": 225,
            "outputs": [
                {
                    "output_type": "execute_result",
                    "execution_count": 225,
                    "data": {
                        "text/plain": "     Postalcode       Borough Neighbourhood\n0            1A  Not assigned  Not assigned\n1  Not assigned  Not assigned            2A\n2  Not assigned            2A  Not assigned\n3            2A  Not assigned  Not assigned\n4  Not assigned  Not assigned            3A",
                        "text/html": "<div>\n<style scoped>\n    .dataframe tbody tr th:only-of-type {\n        vertical-align: middle;\n    }\n\n    .dataframe tbody tr th {\n        vertical-align: top;\n    }\n\n    .dataframe thead th {\n        text-align: right;\n    }\n</style>\n<table border=\"1\" class=\"dataframe\">\n  <thead>\n    <tr style=\"text-align: right;\">\n      <th></th>\n      <th>Postalcode</th>\n      <th>Borough</th>\n      <th>Neighbourhood</th>\n    </tr>\n  </thead>\n  <tbody>\n    <tr>\n      <th>0</th>\n      <td>1A</td>\n      <td>Not assigned</td>\n      <td>Not assigned</td>\n    </tr>\n    <tr>\n      <th>1</th>\n      <td>Not assigned</td>\n      <td>Not assigned</td>\n      <td>2A</td>\n    </tr>\n    <tr>\n      <th>2</th>\n      <td>Not assigned</td>\n      <td>2A</td>\n      <td>Not assigned</td>\n    </tr>\n    <tr>\n      <th>3</th>\n      <td>2A</td>\n      <td>Not assigned</td>\n      <td>Not assigned</td>\n    </tr>\n    <tr>\n      <th>4</th>\n      <td>Not assigned</td>\n      <td>Not assigned</td>\n      <td>3A</td>\n    </tr>\n  </tbody>\n</table>\n</div>"
                    },
                    "metadata": {}
                }
            ]
        },
        {
            "metadata": {},
            "cell_type": "code",
            "source": "df_2=df.iloc[::3]",
            "execution_count": 226,
            "outputs": []
        },
        {
            "metadata": {},
            "cell_type": "markdown",
            "source": "#### Deleting 'Not Assigned' Values"
        },
        {
            "metadata": {},
            "cell_type": "code",
            "source": "indexNum = df_2[df['Borough'] == 'Not assigned'].index\ndf_2.drop(indexNum, inplace = True)\ndf_2.head(5)",
            "execution_count": 227,
            "outputs": [
                {
                    "output_type": "stream",
                    "text": "/opt/conda/envs/Python36/lib/python3.6/site-packages/ipykernel/__main__.py:1: UserWarning: Boolean Series key will be reindexed to match DataFrame index.\n  if __name__ == '__main__':\n",
                    "name": "stderr"
                },
                {
                    "output_type": "execute_result",
                    "execution_count": 227,
                    "data": {
                        "text/plain": "   Postalcode           Borough     Neighbourhood\n6          3A        North York         Parkwoods\n9          4A        North York  Victoria Village\n12         5A  Downtown Toronto       Regent Park\n15         6A        North York    Lawrence Manor\n18         7A  Downtown Toronto      Queen's Park",
                        "text/html": "<div>\n<style scoped>\n    .dataframe tbody tr th:only-of-type {\n        vertical-align: middle;\n    }\n\n    .dataframe tbody tr th {\n        vertical-align: top;\n    }\n\n    .dataframe thead th {\n        text-align: right;\n    }\n</style>\n<table border=\"1\" class=\"dataframe\">\n  <thead>\n    <tr style=\"text-align: right;\">\n      <th></th>\n      <th>Postalcode</th>\n      <th>Borough</th>\n      <th>Neighbourhood</th>\n    </tr>\n  </thead>\n  <tbody>\n    <tr>\n      <th>6</th>\n      <td>3A</td>\n      <td>North York</td>\n      <td>Parkwoods</td>\n    </tr>\n    <tr>\n      <th>9</th>\n      <td>4A</td>\n      <td>North York</td>\n      <td>Victoria Village</td>\n    </tr>\n    <tr>\n      <th>12</th>\n      <td>5A</td>\n      <td>Downtown Toronto</td>\n      <td>Regent Park</td>\n    </tr>\n    <tr>\n      <th>15</th>\n      <td>6A</td>\n      <td>North York</td>\n      <td>Lawrence Manor</td>\n    </tr>\n    <tr>\n      <th>18</th>\n      <td>7A</td>\n      <td>Downtown Toronto</td>\n      <td>Queen's Park</td>\n    </tr>\n  </tbody>\n</table>\n</div>"
                    },
                    "metadata": {}
                }
            ]
        },
        {
            "metadata": {},
            "cell_type": "code",
            "source": "df_3=df_2.reset_index()\ndf_n= df_3.drop(columns='index')",
            "execution_count": 228,
            "outputs": []
        },
        {
            "metadata": {},
            "cell_type": "code",
            "source": "df_n.head()",
            "execution_count": 229,
            "outputs": [
                {
                    "output_type": "execute_result",
                    "execution_count": 229,
                    "data": {
                        "text/plain": "  Postalcode           Borough     Neighbourhood\n0         3A        North York         Parkwoods\n1         4A        North York  Victoria Village\n2         5A  Downtown Toronto       Regent Park\n3         6A        North York    Lawrence Manor\n4         7A  Downtown Toronto      Queen's Park",
                        "text/html": "<div>\n<style scoped>\n    .dataframe tbody tr th:only-of-type {\n        vertical-align: middle;\n    }\n\n    .dataframe tbody tr th {\n        vertical-align: top;\n    }\n\n    .dataframe thead th {\n        text-align: right;\n    }\n</style>\n<table border=\"1\" class=\"dataframe\">\n  <thead>\n    <tr style=\"text-align: right;\">\n      <th></th>\n      <th>Postalcode</th>\n      <th>Borough</th>\n      <th>Neighbourhood</th>\n    </tr>\n  </thead>\n  <tbody>\n    <tr>\n      <th>0</th>\n      <td>3A</td>\n      <td>North York</td>\n      <td>Parkwoods</td>\n    </tr>\n    <tr>\n      <th>1</th>\n      <td>4A</td>\n      <td>North York</td>\n      <td>Victoria Village</td>\n    </tr>\n    <tr>\n      <th>2</th>\n      <td>5A</td>\n      <td>Downtown Toronto</td>\n      <td>Regent Park</td>\n    </tr>\n    <tr>\n      <th>3</th>\n      <td>6A</td>\n      <td>North York</td>\n      <td>Lawrence Manor</td>\n    </tr>\n    <tr>\n      <th>4</th>\n      <td>7A</td>\n      <td>Downtown Toronto</td>\n      <td>Queen's Park</td>\n    </tr>\n  </tbody>\n</table>\n</div>"
                    },
                    "metadata": {}
                }
            ]
        },
        {
            "metadata": {},
            "cell_type": "markdown",
            "source": "#### Using .shape method to find the number of rows of DF"
        },
        {
            "metadata": {},
            "cell_type": "code",
            "source": "print('Rows of DF,Columns of DF',df_n.shape)",
            "execution_count": 230,
            "outputs": [
                {
                    "output_type": "stream",
                    "text": "Rows of DF,Columns of DF (103, 3)\n",
                    "name": "stdout"
                }
            ]
        },
        {
            "metadata": {},
            "cell_type": "code",
            "source": "",
            "execution_count": null,
            "outputs": []
        }
    ],
    "metadata": {
        "kernelspec": {
            "name": "python3",
            "display_name": "Python 3.6",
            "language": "python"
        },
        "language_info": {
            "name": "python",
            "version": "3.6.9",
            "mimetype": "text/x-python",
            "codemirror_mode": {
                "name": "ipython",
                "version": 3
            },
            "pygments_lexer": "ipython3",
            "nbconvert_exporter": "python",
            "file_extension": ".py"
        }
    },
    "nbformat": 4,
    "nbformat_minor": 1
}